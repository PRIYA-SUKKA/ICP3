{
 "cells": [
  {
   "cell_type": "code",
   "execution_count": 1,
   "id": "df3267d7",
   "metadata": {},
   "outputs": [
    {
     "name": "stdout",
     "output_type": "stream",
     "text": [
      "Total number of employees: 4\n",
      "Average salary: 76250.0\n"
     ]
    }
   ],
   "source": [
    "class Employee:\n",
    "    num_employees = 0\n",
    "\n",
    "    def __init__(self, name, family, salary, department):\n",
    "        self.name = name\n",
    "        self.family = family\n",
    "        self.salary = salary\n",
    "        self.department = department\n",
    "        Employee.num_employees += 1\n",
    "\n",
    "    @staticmethod\n",
    "    def average_salary(employees):\n",
    "        total_salary = sum(emp.salary for emp in employees)\n",
    "        return total_salary / len(employees)\n",
    "\n",
    "class FulltimeEmployee(Employee):\n",
    "    def __init__(self, name, family, salary, department, experience):\n",
    "        super().__init__(name, family, salary, department)\n",
    "        self.experience = experience\n",
    "\n",
    "employee1 = Employee(\"John Doe\", \"Family A\", 60000, \"HR\")\n",
    "employee2 = Employee(\"Jane Smith\", \"Family B\", 75000, \"Finance\")\n",
    "\n",
    "fulltime_employee1 = FulltimeEmployee(\"Alice Johnson\", \"Family C\", 80000, \"IT\", 3)\n",
    "fulltime_employee2 = FulltimeEmployee(\"Bob Williams\", \"Family D\", 90000, \"Engineering\", 5)\n",
    "\n",
    "employees = [employee1, employee2, fulltime_employee1, fulltime_employee2]\n",
    "avg_salary = Employee.average_salary(employees)\n",
    "\n",
    "print(\"Total number of employees:\", Employee.num_employees)\n",
    "print(\"Average salary:\", avg_salary)"
   ]
  },
  {
   "cell_type": "code",
   "execution_count": 2,
   "id": "4c95089c",
   "metadata": {},
   "outputs": [
    {
     "name": "stdout",
     "output_type": "stream",
     "text": [
      "Original array:\n",
      "[19.19361806  4.65960482  9.06083983  3.46738034  4.38018735 14.08385954\n",
      " 10.40416987 12.08743599 11.94720469  5.11820095  8.76116886 19.10230937\n",
      "  6.23823285 14.45679596  5.08436022  5.37581358 11.3005237  14.72262973\n",
      " 13.0498565   9.74778076]\n",
      "\n",
      "Reshaped array:\n",
      "[[ 0.          4.65960482  9.06083983  3.46738034  4.38018735]\n",
      " [ 0.         10.40416987 12.08743599 11.94720469  5.11820095]\n",
      " [ 8.76116886  0.          6.23823285 14.45679596  5.08436022]\n",
      " [ 5.37581358 11.3005237   0.         13.0498565   9.74778076]]\n"
     ]
    }
   ],
   "source": [
    "import numpy as np\n",
    "random_vector = np.random.uniform(1, 20, size=20)\n",
    "print(\"Original array:\")\n",
    "print(random_vector)\n",
    "\n",
    "reshaped_array = random_vector.reshape(4, 5)\n",
    "\n",
    "max_indices = np.argmax(reshaped_array, axis=1)\n",
    "\n",
    "reshaped_array[np.arange(4), max_indices] = 0\n",
    "\n",
    "print(\"\\nReshaped array:\")\n",
    "print(reshaped_array)"
   ]
  },
  {
   "cell_type": "code",
   "execution_count": null,
   "id": "35f22fd1",
   "metadata": {},
   "outputs": [],
   "source": []
  }
 ],
 "metadata": {
  "kernelspec": {
   "display_name": "Python 3 (ipykernel)",
   "language": "python",
   "name": "python3"
  },
  "language_info": {
   "codemirror_mode": {
    "name": "ipython",
    "version": 3
   },
   "file_extension": ".py",
   "mimetype": "text/x-python",
   "name": "python",
   "nbconvert_exporter": "python",
   "pygments_lexer": "ipython3",
   "version": "3.11.5"
  }
 },
 "nbformat": 4,
 "nbformat_minor": 5
}
